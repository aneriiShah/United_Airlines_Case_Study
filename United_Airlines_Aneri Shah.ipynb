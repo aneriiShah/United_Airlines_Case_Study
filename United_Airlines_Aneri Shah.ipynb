{
  "nbformat": 4,
  "nbformat_minor": 0,
  "metadata": {
    "colab": {
      "name": "United_Airlines.ipynb",
      "provenance": [],
      "collapsed_sections": []
    },
    "kernelspec": {
      "name": "python3",
      "display_name": "Python 3"
    }
  },
  "cells": [
    {
      "cell_type": "markdown",
      "metadata": {
        "id": "fKS5_XWdpKdB"
      },
      "source": [
        "**United Airlines Round 3 interview: Analyst TO Analyst case Study**\r\n",
        "\r\n",
        "**Submission By: Aneri Shah**\r\n",
        "\r\n",
        "**Date: 02/22/2021**\r\n",
        "\r\n"
      ]
    },
    {
      "cell_type": "markdown",
      "metadata": {
        "id": "BUPWavAUAh_R"
      },
      "source": [
        "**Data cleaning**"
      ]
    },
    {
      "cell_type": "code",
      "metadata": {
        "id": "1E_PMCOAou3V"
      },
      "source": [
        "# Read and store data from a txt file in a dataframe\r\n",
        "\r\n",
        "import pandas as pd\r\n",
        "df = pd.read_csv('survey_data.txt', sep=\"\\t\")"
      ],
      "execution_count": null,
      "outputs": []
    },
    {
      "cell_type": "code",
      "metadata": {
        "id": "leZ-qDybpcy2"
      },
      "source": [
        "# Drop these columns based on missing values and peforming exploratory analysis by identifying several insignificant variables\r\n",
        "\r\n",
        "df.drop(['IDATE','IDAY','SEQNO','_PSU','LADULT','COLGHOUS','STATERES','POORHLTH','CHILDREN','EDUCA','INCOME2','WEIGHT2','HEIGHT3','SMOKE100','SMOKDAY2','STOPSMK2','LASTSMK2','USENOW3',\r\n",
        "'ALCDAY5','AVEDRNK2','DRNK3GE5','MAXDRNKS','FLUSHOT6','FLSHTMY2','PNEUVAC3','SHINGLE2','FALL12MN','FALLINJ2','SEATBELT','DRNKDRI2','HADMAM',\r\n",
        "'HOWLONG','PROFEXAM','LENGEXAM','HADPAP2','LASTPAP2','HADHYST2','PCPSADI1','PCPSARE1','PSATEST1','PSATIME','PCPSARS1','BLDSTOOL','LSTBLDS3',\r\n",
        "'HADSIGM3','HADSGCO1','LASTSIG3','FEETCHK2','PAINACT2','QLMENTL2','QLSTRES2','QLHLTH2','MEDICARE','DLYOTHER','NOCOV121','LSTCOVRG','DRVISITS',\r\n",
        "'ASBIALCH','ASBIDRNK','ASBIBING','ASBIADVC','ASBIRDUC','ASTHMAGE','ASATTACK','ASERVIST','ASDRVIST','ASRCHKUP','ASACTLIM','ASYMPTOM','ASNOSLEP',\r\n",
        "'ASTHMED3','ASINHALR','IMFVPLAC','TETANUS','HPVTEST','HPLSTTST','HPVADVC2','HPVADSHT','CNCRDIFF','CNCRAGE','CNCRTYP1','CSRVTRT1','CSRVDOC1','CSRVSUM',\r\n",
        "'CSRVRTRN','CSRVINST','CSRVINSR','CSRVDEIN','CSRVCLIN','CSRVPAIN','CSRVCTL1','RRCLASS2','RRCOGNT2','RRATWRK2','RRHCARE3','RRPHYSM2','RREMTSM2',\r\n",
        "'SCNTMNY1','SCNTMEL1','SCNTPAID','SCNTWRK1','SCNTLPAD','SCNTLWK1','SCNTVOT1','QSTLANG','_STSTR','_STRWT',\r\n",
        "'_RAWRAKE','_WT2RAKE','RENTHOM1','_CPRACE','_CRACE1','_LTASTH1','_CASTHM1','_PRACE1','_MRACE1','_HISPANC','_RACEG21','_RACEGR3','_RACE','_AGE65YR',\r\n",
        "'_AGEG5YR','HTIN4','_BMI5','_RFBMI5','_CHLDCNT','_EDUCAG','_RFSMOK3','DROCDY3_','_DRNKDY4','_RFBING5','_RFDRMN4','_RFDRWM4','_DRNKMO4',\r\n",
        "'_RFSEAT3','_MAM502Y','_RFSIGM2','_RFBLDS2','_RFSIGM2','CTELENUM','NUMADULT','GENHLTH','WTCHSALT','LONGWTCH','DRADVISE','EMTSUPRT','LSATISFY','RCSBRAC1','RCSRACE1','RCHISLA1','RCSBIRTH'],axis=1,inplace=True)"
      ],
      "execution_count": null,
      "outputs": []
    },
    {
      "cell_type": "code",
      "metadata": {
        "id": "sPuSuGpnUSrj"
      },
      "source": [
        "# There is anothercolumn named PREGNANT, which can be eliminated by just creating one more factor value which will be called Female_Pregnant\r\n",
        "\r\n",
        "df.loc[df.PREGNANT == 2, 'SEX'] = \"3\""
      ],
      "execution_count": null,
      "outputs": []
    },
    {
      "cell_type": "code",
      "metadata": {
        "id": "1-rP4bC5tFhc"
      },
      "source": [
        "# Dropping these variables again based on the imputed variables or missing values\r\n",
        "\r\n",
        "df.drop(['HLTHPLN1','EXERANY2','ASTHMA3','ASTHNOW','LASTDEN3','RMVTETH3','MARITAL','EMPLOY1','NUMPHON2','PREGNANT','QLACTLM2','PCPSAAD2','HIVTST6',\r\n",
        "'HIVTSTD3','WHRTST10','BLDSUGAR','PDIABTST','PREDIAB1','PREDIAB1','DOCTDIAB','CHKHEMO3','FEETCHK','EYEEXAM','DIABEYE','DIABEDU','MEDCOST',\r\n",
        "'CARERCVD','MEDBILL1','SXORIENT','TRNSGNDR','RCSGENDR','RCSRLTN2','CASTHDX2','CASTHNO2','QSTVER','MSCODE'],axis=1,inplace=True)"
      ],
      "execution_count": null,
      "outputs": []
    },
    {
      "cell_type": "code",
      "metadata": {
        "id": "TjxoqgoYTeC7"
      },
      "source": [
        "# Filling up the missing values with 0 for better future analytics\r\n",
        "\r\n",
        "df.fillna(value = 0,inplace = True)"
      ],
      "execution_count": null,
      "outputs": []
    },
    {
      "cell_type": "code",
      "metadata": {
        "id": "sBCUbAM8tGCP"
      },
      "source": [
        "# Replacing None, Not Sure, Refused or missing values with 0 again to compute a new variable called TOT_DFFCLTY_TSKS\r\n",
        "# This variable will tell if a person has difficulty in performing how many of these tasks\r\n",
        "\r\n",
        "df[\"DECIDE\"] = df[\"DECIDE\"].replace([2, 7, 9], 0)\r\n",
        "df[\"DIFFWALK\"] = df[\"DIFFWALK\"].replace([2, 7, 9], 0)\r\n",
        "df[\"DIFFDRES\"] = df[\"DIFFDRES\"].replace([2, 7, 9], 0)\r\n",
        "df[\"DIFFALON\"] = df[\"DIFFALON\"].replace([2, 7, 9], 0)\r\n",
        "df[\"BLIND\"] = df[\"BLIND\"].replace([2, 7, 9], 0)\r\n",
        "df[\"USEEQUIP\"] = df[\"USEEQUIP\"].replace([2, 7, 9], 0)"
      ],
      "execution_count": null,
      "outputs": []
    },
    {
      "cell_type": "code",
      "metadata": {
        "id": "qip2wi4h9qJT"
      },
      "source": [
        "# Creating variable TOT_DFFCLTY_TSKS and dropping the columns used to create this variable\r\n",
        "\r\n",
        "df[\"TOT_DFFCLTY_TSKS\"] = df[\"DECIDE\"]+df[\"DIFFWALK\"]+df[\"DIFFDRES\"]+df[\"DIFFALON\"]+df[\"BLIND\"]+df[\"USEEQUIP\"]\r\n",
        "df['TOT_DFFCLTY_TSKS'].fillna(0, inplace=True)\r\n",
        "df.drop(['DECIDE','DIFFWALK','DIFFDRES','DIFFALON','BLIND','USEEQUIP'],axis=1,inplace=True)"
      ],
      "execution_count": null,
      "outputs": []
    },
    {
      "cell_type": "code",
      "metadata": {
        "id": "HZNuBWVZ-_1l"
      },
      "source": [
        "# Replacing None, Not Sure, Refused or missing values with 0 again to compute a new variable called TOT_CHRNC\r\n",
        "# This variable will tell how many chronic diseases a person has\r\n",
        "# And eliminating the variables used to create this new variable\r\n",
        "\r\n",
        "df[\"CVDINFR4\"] = df[\"CVDINFR4\"].replace([2, 7, 9], 0)\r\n",
        "df[\"CVDCRHD4\"] = df[\"CVDCRHD4\"].replace([2, 7, 9], 0)\r\n",
        "df[\"CVDSTRK3\"] = df[\"CVDSTRK3\"].replace([2, 7, 9], 0)\r\n",
        "df[\"CHCSCNCR\"] = df[\"CHCSCNCR\"].replace([2, 7, 9], 0)\r\n",
        "df[\"CHCOCNCR\"] = df[\"CHCOCNCR\"].replace([2, 7, 9], 0)\r\n",
        "df[\"CHCCOPD1\"] = df[\"CHCCOPD1\"].replace([2, 7, 9], 0)\r\n",
        "df[\"HAVARTH3\"] = df[\"HAVARTH3\"].replace([2, 7, 9], 0)\r\n",
        "df[\"ADDEPEV2\"] = df[\"ADDEPEV2\"].replace([2, 7, 9], 0)\r\n",
        "df[\"CHCKIDNY\"] = df[\"CHCKIDNY\"].replace([2, 7, 9], 0)\r\n",
        "df[\"DIABETE3\"] = df[\"DIABETE3\"].replace([3, 4,7, 9], 0)\r\n",
        "df[\"DIABETE3\"] = df[\"DIABETE3\"].replace([2], 1)\r\n",
        "df[\"TOT_CHRNC\"] = df[\"CVDINFR4\"]+df[\"CVDCRHD4\"]+df[\"CVDSTRK3\"] +df[\"CHCSCNCR\"]+df[\"CHCOCNCR\"]+df[\"CHCCOPD1\"]+df[\"HAVARTH3\"]+df[\"ADDEPEV2\"]+df[\"CHCKIDNY\"]+df[\"DIABETE3\"]\r\n",
        "df[\"TOT_CHRNC\"].fillna(0, inplace=True)\r\n",
        "df.drop(['CVDINFR4','CVDCRHD4','CVDSTRK3','CHCSCNCR','CHCOCNCR','CHCCOPD1','HAVARTH3','ADDEPEV2','CHCKIDNY','DIABETE3'],axis=1,inplace=True)\r\n",
        "df.drop(['_IMPCSEX','_IMPCRAC','_IMPCAGE','_HCVU651','DIABAGE2','FMONTH','_IMPRACE'],axis=1,inplace=True)"
      ],
      "execution_count": null,
      "outputs": []
    },
    {
      "cell_type": "code",
      "metadata": {
        "id": "zzCqtX8NB9-E"
      },
      "source": [
        "# Replacing Not Sure, Refused or missing values with 0 to reduce the number of values for creating categorical variables\r\n",
        "\r\n",
        "df[\"NUMMEN\"] = df[\"NUMMEN\"].replace([1,2,3],1)\r\n",
        "df[\"NUMMEN\"] = df[\"NUMMEN\"].replace([4,5,15],2)\r\n",
        "df[\"NUMWOMEN\"] = df[\"NUMWOMEN\"].replace([1,2,3],1)\r\n",
        "df[\"NUMWOMEN\"] = df[\"NUMWOMEN\"].replace([4,5],2)\r\n",
        "df['PERSDOC2'] = df['PERSDOC2'].replace([4,5,15],2)\r\n",
        "df[\"PHYSHLTH\"] = df[\"PHYSHLTH\"].replace([77,88,99], 0)\r\n",
        "df[\"MENTHLTH\"] = df[\"MENTHLTH\"].replace([77,88,99], 0)\r\n",
        "df[\"PERSDOC2\"] = df[\"PERSDOC2\"].replace([3,7,9], 0)\r\n",
        "df[\"CHECKUP1\"] = df[\"CHECKUP1\"].replace([7,8,9], 0)\r\n",
        "df[\"CHECKUP1\"] = df[\"CHECKUP1\"].replace([2,3], 2)\r\n",
        "df[\"SLEPTIM1\"] = df[\"SLEPTIM1\"].replace([77,99], 0)\r\n",
        "df[\"VETERAN3\"] = df[\"VETERAN3\"].replace([2,7,9], 0)\r\n",
        "df[\"NUMHHOL2\"] = df[\"NUMHHOL2\"].replace([2,7,9], 0)\r\n",
        "df[\"CPDEMO1\"] = df[\"CPDEMO1\"].replace([2,7,9], 0)\r\n",
        "df[\"INTERNET\"] = df[\"INTERNET\"].replace([2,7,9], 0)\r\n",
        "df[\"INSULIN\"] = df[\"INSULIN\"].replace([2,9], 0)\r\n",
        "df[\"HLTHCVR1\"] = df[\"HLTHCVR1\"].replace([77,99], 0)\r\n",
        "df[\"DELAYMED\"] = df[\"DELAYMED\"].replace([7,9], 0)\r\n",
        "df[\"MEDSCOST\"] = df[\"MEDSCOST\"].replace([3,7,9], 0)\r\n",
        "df[\"_CHISPNC\"] = df[\"_CHISPNC\"].replace([9], 0)\r\n",
        "df[\"_ASTHMS1\"] = df[\"_ASTHMS1\"].replace([9], 0)\r\n",
        "df[\"_ALTETH2\"] = df[\"_ALTETH2\"].replace([0], 9)\r\n",
        "df[\"_FLSHOT6\"] = df[\"_FLSHOT6\"].replace([9], 0)\r\n",
        "df[\"_PNEUMO2\"] = df[\"_PNEUMO2\"].replace([9], 0)\r\n",
        "df[\"_RFMAM2Y\"] = df[\"_RFMAM2Y\"].replace([9], 0)\r\n",
        "df[\"_RFPAP32\"] = df[\"_RFPAP32\"].replace([9], 0)\r\n",
        "df[\"_RFPSA21\"] = df[\"_RFPSA21\"].replace([9], 0)\r\n",
        "df[\"_AIDTST3\"] = df[\"_AIDTST3\"].replace([9], 0)\r\n",
        "df[\"DRNKANY5\"] = df[\"DRNKANY5\"].replace([7,9],0)\r\n",
        "df[\"TOT_DFFCLTY_TSKS\"] = df[\"TOT_DFFCLTY_TSKS\"].replace([1,2],1)\r\n",
        "df[\"TOT_DFFCLTY_TSKS\"] = df[\"TOT_DFFCLTY_TSKS\"].replace([3,4],2)\r\n",
        "df[\"TOT_DFFCLTY_TSKS\"] = df[\"TOT_DFFCLTY_TSKS\"].replace([5,6],3)\r\n",
        "df['TOT_CHRNC'] = df['TOT_CHRNC'].replace([1,2,3],1)\r\n",
        "df['TOT_CHRNC'] = df['TOT_CHRNC'].replace([4,5,6],2)\r\n",
        "df['TOT_CHRNC'] = df['TOT_CHRNC'].replace([7,8,9,10],3)"
      ],
      "execution_count": null,
      "outputs": []
    },
    {
      "cell_type": "code",
      "metadata": {
        "id": "_tnZ19wpCI_U"
      },
      "source": [
        "# Converting the following variables to categories\r\n",
        "\r\n",
        "df['_STATE'] = df['_STATE'].astype('category')\r\n",
        "df['IMONTH'] = df['IMONTH'].astype('category')\r\n",
        "df['IYEAR'] = df['IYEAR'].astype('category')\r\n",
        "df['DISPCODE'] = df['DISPCODE'].astype('category')\r\n",
        "df['PVTRESD1'] = df['PVTRESD1'].astype('category')\r\n",
        "df['PERSDOC2'] = df['PERSDOC2'].astype('category')\r\n",
        "df['CHECKUP1'] = df['CHECKUP1'].astype('category')\r\n",
        "df['VETERAN3'] = df['VETERAN3'].astype('category')\r\n",
        "df['NUMHHOL2'] = df['NUMHHOL2'].astype('category')\r\n",
        "df['CPDEMO1'] = df['CPDEMO1'].astype('category')\r\n",
        "df['INTERNET'] = df['INTERNET'].astype('category')\r\n",
        "df['SEX'] = df['SEX'].astype('category')\r\n",
        "df['INSULIN'] = df['INSULIN'].astype('category')\r\n",
        "df['HLTHCVR1'] = df['HLTHCVR1'].astype('category')\r\n",
        "df['DELAYMED'] = df['DELAYMED'].astype('category')\r\n",
        "df['MEDSCOST'] = df['MEDSCOST'].astype('category')\r\n",
        "df['_IMPNPH'] = df['_IMPNPH'].astype('category')\r\n",
        "df['_CHISPNC'] = df['_CHISPNC'].astype('category')\r\n",
        "df['_RFHLTH'] = df['_RFHLTH'].astype('category')\r\n",
        "df['_TOTINDA'] = df['_TOTINDA'].astype('category')\r\n",
        "df['_ASTHMS1'] = df['_ASTHMS1'].astype('category')\r\n",
        "df['_DRDXAR1'] = df['_DRDXAR1'].astype('category')\r\n",
        "df['_EXTETH2'] = df['_EXTETH2'].astype('category')\r\n",
        "df['_ALTETH2'] = df['_ALTETH2'].astype('category')\r\n",
        "df['_DENVST2'] = df['_DENVST2'].astype('category')\r\n",
        "df['_RACE_G1'] = df['_RACE_G1'].astype('category')\r\n",
        "df['_AGE_G'] = df['_AGE_G'].astype('category')\r\n",
        "df['_BMI5CAT'] = df['_BMI5CAT'].astype('category')\r\n",
        "df['_INCOMG'] = df['_INCOMG'].astype('category')\r\n",
        "df['_SMOKER3'] = df['_SMOKER3'].astype('category')\r\n",
        "df['DRNKANY5'] = df['DRNKANY5'].astype('category')\r\n",
        "df['_RFDRHV4'] = df['_RFDRHV4'].astype('category')\r\n",
        "df['_FLSHOT6'] = df['_FLSHOT6'].astype('category')\r\n",
        "df['_PNEUMO2'] = df['_PNEUMO2'].astype('category')\r\n",
        "df['_RFSEAT2'] = df['_RFSEAT2'].astype('category')\r\n",
        "df['_RFMAM2Y'] = df['_RFMAM2Y'].astype('category')\r\n",
        "df['_RFPAP32'] = df['_RFPAP32'].astype('category')\r\n",
        "df['_RFPSA21'] = df['_RFPSA21'].astype('category')\r\n",
        "df['_AIDTST3'] = df['_AIDTST3'].astype('category')\r\n",
        "df['_IMPEDUC'] = df['_IMPEDUC'].astype('category')\r\n",
        "df['_IMPMRTL'] = df['_IMPMRTL'].astype('category')\r\n",
        "df['_IMPHOME'] = df['_IMPHOME'].astype('category')\r\n",
        "df['TOT_DFFCLTY_TSKS'] = df['TOT_DFFCLTY_TSKS'].astype('category')\r\n",
        "df['TOT_CHRNC'] = df['TOT_CHRNC'].astype('category')\r\n",
        "df['NUMMEN'] = df['NUMMEN'].astype('category')\r\n",
        "df['NUMWOMEN'] = df['NUMWOMEN'].astype('category')"
      ],
      "execution_count": null,
      "outputs": []
    },
    {
      "cell_type": "code",
      "metadata": {
        "id": "LoSRj4APEBcU"
      },
      "source": [
        "# Naming the categories for better representation during analytics\r\n",
        "\r\n",
        "df._STATE.cat.categories = [\"Connecticut\",\"New Jersey\",\"New York\"]\r\n",
        "df.PVTRESD1.cat.categories = [\"Missing\",\"Yes\",\"No\"]\r\n",
        "df.PERSDOC2.cat.categories = [\"No_Not_Sure\",\"Yes_One\",\"Yes_more_than_one\"]\r\n",
        "df.CHECKUP1.cat.categories = [\"No_Not_Sure\",\"1_year\",\"2_to_5_years\",\"5years_or_more\"]\r\n",
        "df.VETERAN3.cat.categories = [\"No_Not_Sure\",\"Yes\"]\r\n",
        "df.NUMHHOL2.cat.categories = [\"No_Not_Sure\",\"Yes\"]\r\n",
        "df.CPDEMO1.cat.categories = [\"No_Not_Sure\",\"Yes\"]\r\n",
        "df.INTERNET.cat.categories = [\"No_Not_Sure\",\"Yes\"]\r\n",
        "df.SEX.cat.categories = [\"Male\",\"Female\",\"Pregnant_Female\"]\r\n",
        "df.INSULIN.cat.categories = [\"No_Not_Sure\",\"Yes\"]\r\n",
        "df.HLTHCVR1.cat.categories = [\"Not_sure_or_missing\",\"Employer_or_Union\",\"Bought_on_your_own\",\"Medicare\",\"Medicaid\",\"Tricare\",\"Alaska_Native\",\"Other_Source\",\"None\"]\r\n",
        "df.DELAYMED.cat.categories = [\"Not_sure_or_missing\",\"Not_Telephone\",\"Appntmnt_not_soon\",\"Wait_long\",\"Office_not_open\",\"No_transport\",\"Other\",\"No_Delay\"]\r\n",
        "df.MEDSCOST.cat.categories = [\"Not_sure_prescribed_or_missing\",\"Yes\",\"No\"]\r\n",
        "df._IMPNPH.cat.categories = [\"Missing\",\"1\",\"2\",\"3\",\"4\",\"5\",\"6\"]\r\n",
        "df._CHISPNC.cat.categories = [\"Missing_or_not_sure\",\"Yes_Hisp\",\"No_Hisp\"]\r\n",
        "df._RFHLTH.cat.categories = [\"Good_Better_Health\",\"Fair_Poor_Health\",\"Not_Sure_Missing\"]\r\n",
        "df._TOTINDA.cat.categories = [\"Yes_PA\", \"No_PA\",\"Not_sure_missing\"]\r\n",
        "df._ASTHMS1.cat.categories = [\"Not_Sure_Missing\",\"Current\",\"Former\",\"Never\"]\r\n",
        "df._DRDXAR1.cat.categories = [\"Missing\",\"Yes_Arth\",\"No_Arth\"]\r\n",
        "df._EXTETH2.cat.categories = [\"No_Risk_Teeth\",\"Risk_Teeth\",\"Not_Sure_Missing\"]\r\n",
        "df._ALTETH2.cat.categories = [\"NoT_Extracted\",\"Yes_Extracted\",\"Not_sure_missing\"]\r\n",
        "df._DENVST2.cat.categories = [\"Yes_Visit_Dentst\",\"No_Visit_Dentst\",\"Not_Sure_Missing\"]\r\n",
        "df._RACE_G1.cat.categories = [\"Not_Sure_Missing\",\"White_NH\",\"Black_NH\",\"Hisp\",\"Other_NH\",\"Multi_Race_NH\"]\r\n",
        "df._AGE_G.cat.categories = [\"Age_18_24\",\"Age_25_34\",\"Age_35_44\",\"Age_45_54\",\"Age_55_64\",\"Age_65_or_more\"]\r\n",
        "df._BMI5CAT.cat.categories = [\"Not_Sure_Missing\",\"Under_Weight\",\"Normal_Weight\",\"Over_Weight\",\"Obese\"]\r\n",
        "df._INCOMG.cat.categories = [\"Less_than_15k\",\"15k_to_25k\",\"25k_to_35k\",\"35k_to_50k\",\"50k_or_more\",\"Not_Sure_Missing\"]\r\n",
        "df._SMOKER3.cat.categories = [\"Current_Daily_Smoke\",\"Current_Sometimes_Smoke\",\"Former_Smoke\",\"Never_Smoke\",\"Not_Sure_Missing\"]\r\n",
        "df.DRNKANY5.cat.categories = [\"Not_Sure_Missing\",\"Yes\",\"No\"]\r\n",
        "df._RFDRHV4.cat.categories = [\"No\",\"Yes\",\"Not_Sure_Missing\"]\r\n",
        "df._FLSHOT6.cat.categories = [\"Not_Sure_Missing\",\"Yes\",\"No\"]\r\n",
        "df._PNEUMO2.cat.categories = [\"Not_Sure_Missing\",\"Yes\",\"No\"]\r\n",
        "df._RFSEAT2.cat.categories = [\"Always\",\"Sometimes\",\"Not_Sure_Missing\"]\r\n",
        "df._RFMAM2Y.cat.categories = [\"Not_Sure_Missing\",\"Yes\",\"No\"]\r\n",
        "df._RFPAP32.cat.categories = [\"Not_Sure_Missing\",\"Yes\",\"No\"]\r\n",
        "df._RFPSA21.cat.categories = [\"Not_Sure_Missing\",\"Yes\",\"No\"]\r\n",
        "df._AIDTST3.cat.categories = [\"Not_Sure_Missing\",\"Yes\",\"No\"]\r\n",
        "df._IMPEDUC.cat.categories = [\"No_School\",\"Elementary\",\"SOme_high_School\",\"High_School_Grad\",\"College\",\"College_Grad\"]\r\n",
        "df._IMPMRTL.cat.categories = [\"Married\",\"Divorced\",\"Widowed\",\"Separated\",\"Never_married\",\"Mem_of_Unmarried_Couple\"]\r\n",
        "df._IMPHOME.cat.categories = [\"Own\",\"Rent\",\"Other\"]\r\n",
        "df.TOT_DFFCLTY_TSKS.cat.categories = [\"None_or_Missing\",\"1_to_2\",\"3_to_4\",\"5_to_6\"]\r\n",
        "df.TOT_CHRNC.cat.categories = [\"None_or_Missing\",\"1_to_3\",\"4_to_6\",\"7_or_More\"]\r\n",
        "df.NUMWOMEN.cat.categories = [\"None\",\"1_to_3\",\"4_or_more\"]\r\n",
        "df.NUMMEN.cat.categories = [\"None\",\"1_to_3\",\"4_or_more\"]"
      ],
      "execution_count": null,
      "outputs": []
    },
    {
      "cell_type": "code",
      "metadata": {
        "id": "bEIcFtBkcVji"
      },
      "source": [
        "# Removing the rows from PHYSHLTH having value 0 since that is the dependent variable\r\n",
        "# Because 0 means that either the person had no bad health days/don't remember how many days/refused to answer/missing values\r\n",
        "\r\n",
        "df_new = df[df.PHYSHLTH != 0].reset_index(drop=True)\r\n",
        "#df.to_csv(\"United_data_updated.csv\",header=True,index=False)"
      ],
      "execution_count": null,
      "outputs": []
    },
    {
      "cell_type": "markdown",
      "metadata": {
        "id": "C8CAqYBzAbW0"
      },
      "source": [
        "**Q1. How does health status, represented by average number of days with bad physical health in the past month (PHYSHLTH), differ by state? Provie an indication of distribution using whatever statistics or charts you find suitable.**"
      ]
    },
    {
      "cell_type": "code",
      "metadata": {
        "id": "Ow9dTAFNHkLh"
      },
      "source": [
        "# Importing the libraries\r\n",
        "\r\n",
        "import numpy as np\r\n",
        "import seaborn as sns\r\n",
        "import matplotlib.pyplot as plt\r\n",
        "from statsmodels.stats import weightstats as statsmodelsweightstats\r\n",
        "% matplotlib inline\r\n",
        "\r\n",
        "state = df_new[\"_STATE\"]    # Storing the state values in a new object\r\n",
        "physhealth = df_new[\"PHYSHLTH\"]       # Storing the physical health values in a new object"
      ],
      "execution_count": null,
      "outputs": []
    },
    {
      "cell_type": "code",
      "metadata": {
        "colab": {
          "base_uri": "https://localhost:8080/",
          "height": 377
        },
        "id": "rZWyF_XW7qSn",
        "outputId": "d7efad16-1fe7-4ed3-94df-6c8b6910f344"
      },
      "source": [
        "# Plotting the bad physical health days for each days in a box-plot\r\n",
        "\r\n",
        "plt.figure(figsize=(9, 5))\r\n",
        "sns.boxplot(x=state,y=physhealth, palette=\"Set2\",)\r\n",
        "plt.title(\"Distribution of Physical Health in Different States\")\r\n",
        "plt.ylabel(\"Bad Physical Health Days\", labelpad=14)\r\n",
        "plt.xlabel(\"States\", labelpad=14)"
      ],
      "execution_count": null,
      "outputs": [
        {
          "output_type": "execute_result",
          "data": {
            "text/plain": [
              "Text(0.5, 0, 'States')"
            ]
          },
          "metadata": {
            "tags": []
          },
          "execution_count": 46
        },
        {
          "output_type": "display_data",
          "data": {
            "image/png": "[encoded data removed]",
            "text/plain": [
              "<Figure size 648x360 with 1 Axes>"
            ]
          },
          "metadata": {
            "tags": [],
            "needs_background": "light"
          }
        }
      ]
    },
    {
      "cell_type": "code",
      "metadata": {
        "colab": {
          "base_uri": "https://localhost:8080/",
          "height": 197
        },
        "id": "OQ5bAbxV8klP",
        "outputId": "e82e140e-632a-439a-ec35-7941faf46165"
      },
      "source": [
        "# Describing mean,median,standard deviation,inter-quartile values for each state with the number of bad physical days\r\n",
        "\r\n",
        "def q1(x):\r\n",
        "    return x.quantile(0.25)\r\n",
        "\r\n",
        "def q2(x):\r\n",
        "    return x.quantile(0.75)\r\n",
        "df_new.groupby('_STATE').agg({'PHYSHLTH':['count','mean','median','std','min','max',q1, q2]})"
      ],
      "execution_count": null,
      "outputs": [
        {
          "output_type": "execute_result",
          "data": {
            "text/html": [
              "<div>\n",
              "<style scoped>\n",
              "    .dataframe tbody tr th:only-of-type {\n",
              "        vertical-align: middle;\n",
              "    }\n",
              "\n",
              "    .dataframe tbody tr th {\n",
              "        vertical-align: top;\n",
              "    }\n",
              "\n",
              "    .dataframe thead tr th {\n",
              "        text-align: left;\n",
              "    }\n",
              "\n",
              "    .dataframe thead tr:last-of-type th {\n",
              "        text-align: right;\n",
              "    }\n",
              "</style>\n",
              "<table border=\"1\" class=\"dataframe\">\n",
              "  <thead>\n",
              "    <tr>\n",
              "      <th></th>\n",
              "      <th colspan=\"8\" halign=\"left\">PHYSHLTH</th>\n",
              "    </tr>\n",
              "    <tr>\n",
              "      <th></th>\n",
              "      <th>count</th>\n",
              "      <th>mean</th>\n",
              "      <th>median</th>\n",
              "      <th>std</th>\n",
              "      <th>min</th>\n",
              "      <th>max</th>\n",
              "      <th>q1</th>\n",
              "      <th>q2</th>\n",
              "    </tr>\n",
              "    <tr>\n",
              "      <th>_STATE</th>\n",
              "      <th></th>\n",
              "      <th></th>\n",
              "      <th></th>\n",
              "      <th></th>\n",
              "      <th></th>\n",
              "      <th></th>\n",
              "      <th></th>\n",
              "      <th></th>\n",
              "    </tr>\n",
              "  </thead>\n",
              "  <tbody>\n",
              "    <tr>\n",
              "      <th>Connecticut</th>\n",
              "      <td>2592</td>\n",
              "      <td>10.430941</td>\n",
              "      <td>5.0</td>\n",
              "      <td>10.667561</td>\n",
              "      <td>1.0</td>\n",
              "      <td>30.0</td>\n",
              "      <td>2.0</td>\n",
              "      <td>15.0</td>\n",
              "    </tr>\n",
              "    <tr>\n",
              "      <th>New Jersey</th>\n",
              "      <td>4251</td>\n",
              "      <td>11.732769</td>\n",
              "      <td>6.0</td>\n",
              "      <td>11.237568</td>\n",
              "      <td>1.0</td>\n",
              "      <td>30.0</td>\n",
              "      <td>2.0</td>\n",
              "      <td>21.0</td>\n",
              "    </tr>\n",
              "    <tr>\n",
              "      <th>New York</th>\n",
              "      <td>2532</td>\n",
              "      <td>10.929700</td>\n",
              "      <td>5.0</td>\n",
              "      <td>10.801091</td>\n",
              "      <td>1.0</td>\n",
              "      <td>30.0</td>\n",
              "      <td>2.0</td>\n",
              "      <td>20.0</td>\n",
              "    </tr>\n",
              "  </tbody>\n",
              "</table>\n",
              "</div>"
            ],
            "text/plain": [
              "            PHYSHLTH                                                   \n",
              "               count       mean median        std  min   max   q1    q2\n",
              "_STATE                                                                 \n",
              "Connecticut     2592  10.430941    5.0  10.667561  1.0  30.0  2.0  15.0\n",
              "New Jersey      4251  11.732769    6.0  11.237568  1.0  30.0  2.0  21.0\n",
              "New York        2532  10.929700    5.0  10.801091  1.0  30.0  2.0  20.0"
            ]
          },
          "metadata": {
            "tags": []
          },
          "execution_count": 47
        }
      ]
    },
    {
      "cell_type": "markdown",
      "metadata": {
        "id": "prGLm4eZCVOP"
      },
      "source": [
        "**Ans 1:**  From the plots and statistics of these variables, I can say that there is kind of some difference in the number of bad physical days for each state.\r\n",
        "\r\n",
        "With the mean for Connecticut being the lowest with 10, followed by New York with 11 and highest for New Jersey being 12. \r\n",
        "\r\n",
        "Even though the difference could be because the count for New Jersey is highest with 4251 rows.\r\n",
        "\r\n",
        "Also, the median for New Jersey is highest with median physical days being 6. Although, all 3 states have the same min,max and first quartile values. Third quartile value is different with highest in New Jersey again, followed by New York and least in Connecticut. There is a significant difference bbetween the third-quartile values of Connecticut and New Jersey or Connecticut and New York.\r\n",
        "\r\n",
        "I think these values signify that it can be safe to state that the number of bad physical health days could differ by state."
      ]
    },
    {
      "cell_type": "markdown",
      "metadata": {
        "id": "K3lbXqq1Erw3"
      },
      "source": [
        "**Q2. How do you know if the above difference between states is statistically significant?**"
      ]
    },
    {
      "cell_type": "code",
      "metadata": {
        "colab": {
          "base_uri": "https://localhost:8080/"
        },
        "id": "Uy1XwX3vZajq",
        "outputId": "87f580e8-dad2-42b4-8447-ee80f5ea172f"
      },
      "source": [
        "# Performing ANOVA Test to test the significance of these 2 variables because state has more than 2 categorical levels\r\n",
        "\r\n",
        "from scipy import stats\r\n",
        "\r\n",
        "connecticut_info = df_new.query('_STATE == \"Connecticut\"')['PHYSHLTH']\r\n",
        "new_jersey_info = df_new.query('_STATE == \"New Jersey\"')['PHYSHLTH']\r\n",
        "new_york_info = df_new.query('_STATE == \"New York\"')['PHYSHLTH']\r\n",
        "\r\n",
        "# stats f_oneway functions takes the groups as input and returns ANOVA F and p value\r\n",
        "fvalue, pvalue = stats.f_oneway(connecticut_info,new_jersey_info,new_york_info)\r\n",
        "print('F-Statistic = %f' % (fvalue))\r\n",
        "print('P-Value = %f' % (pvalue))"
      ],
      "execution_count": null,
      "outputs": [
        {
          "output_type": "stream",
          "text": [
            "F-Statistic = 12.086743\n",
            "P-Value = 0.000006\n"
          ],
          "name": "stdout"
        }
      ]
    },
    {
      "cell_type": "markdown",
      "metadata": {
        "id": "jTf8fPTqFRin"
      },
      "source": [
        "**Ans 2:** To prove my analysis, I have some significant statistics. \r\n",
        "\r\n",
        "ANOVA uses the F-test to determine whether the variability between group means is larger than the variability of the observations within the groups. If that ratio is sufficiently large, you can conclude that not all the means are equal. Looking at the above test results, F-Statistic value is kind of high and I can say that we can reject the null-hypothesis.\r\n",
        "\r\n",
        "Also, p-value for the above test is way less than 0.05 and hence, I can say that we reject the null-hypothesis and state that there is a difference in the average of bad physical days for each state. \r\n",
        "\r\n",
        "Looking at all the analysis and tests, I can surely say that there is a difference in the number of bad physical days for each state."
      ]
    },
    {
      "cell_type": "markdown",
      "metadata": {
        "id": "uJsyZL8zIxgg"
      },
      "source": [
        "**Q3. Digging deeper into the data, what are the top predictor variables impacting health(i.e., demographics, behaviours, previous illlness,etc.)?**"
      ]
    },
    {
      "cell_type": "code",
      "metadata": {
        "id": "6tkeSkWHFHxp"
      },
      "source": [
        "from sklearn.preprocessing import LabelEncoder, OneHotEncoder\r\n",
        "import warnings\r\n",
        "warnings.filterwarnings(\"ignore\")\r\n",
        "from sklearn.model_selection import train_test_split\r\n",
        "from sklearn.svm import SVC\r\n",
        "from sklearn.metrics import confusion_matrix\r\n",
        "np.random.seed(123)"
      ],
      "execution_count": null,
      "outputs": []
    },
    {
      "cell_type": "code",
      "metadata": {
        "colab": {
          "base_uri": "https://localhost:8080/",
          "height": 330
        },
        "id": "0OybhfRMJs26",
        "outputId": "99ffbf8c-c95c-41be-f9dd-f645807291e2"
      },
      "source": [
        "# Plotting a correlation graph for numeric variables\r\n",
        "\r\n",
        "corr = df_new.corr(method='pearson')\r\n",
        "sns.heatmap(corr, \r\n",
        "            xticklabels=corr.columns,\r\n",
        "            yticklabels=corr.columns,\r\n",
        "            cmap='RdBu_r',\r\n",
        "            annot=True,\r\n",
        "            linewidth=0.5)\r\n",
        "#sns.heatmap(corr)"
      ],
      "execution_count": null,
      "outputs": [
        {
          "output_type": "execute_result",
          "data": {
            "text/plain": [
              "<matplotlib.axes._subplots.AxesSubplot at 0x7f03a9cab320>"
            ]
          },
          "metadata": {
            "tags": []
          },
          "execution_count": 50
        },
        {
          "output_type": "display_data",
          "data": {
            "image/png": "[encoded data removed]",
            "text/plain": [
              "<Figure size 432x288 with 2 Axes>"
            ]
          },
          "metadata": {
            "tags": [],
            "needs_background": "light"
          }
        }
      ]
    },
    {
      "cell_type": "markdown",
      "metadata": {
        "id": "DqBL1K1JN5Ul"
      },
      "source": [
        "From the correlation graph, numeric values are not very correlated, except for Height and Weight. From the 2, as per my understanding, Weight should be impactful to our data considering height cannot impact the number of bad physical days for a patient. \r\n",
        "\r\n",
        "Also, I can remove weight because I already have a column called _BMI5CAT which has imputed BMIs for all patients.\r\n",
        "\r\n",
        "So, I will remove both height and weight variables from the dataframe."
      ]
    },
    {
      "cell_type": "code",
      "metadata": {
        "id": "viGGnxDL2wDo"
      },
      "source": [
        "# Dropping Height and weight variables\r\n",
        "df_new.drop([\"HTM4\",\"WTKG3\"],axis=1,inplace=True)"
      ],
      "execution_count": null,
      "outputs": []
    },
    {
      "cell_type": "code",
      "metadata": {
        "colab": {
          "base_uri": "https://localhost:8080/",
          "height": 287
        },
        "id": "UuF_UFRK3Xq-",
        "outputId": "fe0c894e-897b-4610-b6bd-f69f13a7cebc"
      },
      "source": [
        "# Plotting a correlation graph for numeric variables again\r\n",
        "# No variables are correlated to each other\r\n",
        "\r\n",
        "corr = df_new.corr(method='pearson')\r\n",
        "sns.heatmap(corr, \r\n",
        "            xticklabels=corr.columns,\r\n",
        "            yticklabels=corr.columns,\r\n",
        "            cmap='RdBu_r',\r\n",
        "            annot=True,\r\n",
        "            linewidth=0.5)"
      ],
      "execution_count": null,
      "outputs": [
        {
          "output_type": "execute_result",
          "data": {
            "text/plain": [
              "<matplotlib.axes._subplots.AxesSubplot at 0x7f03a9ca46a0>"
            ]
          },
          "metadata": {
            "tags": []
          },
          "execution_count": 52
        },
        {
          "output_type": "display_data",
          "data": {
            "image/png": "[encoded data removed]",
            "text/plain": [
              "<Figure size 432x288 with 2 Axes>"
            ]
          },
          "metadata": {
            "tags": [],
            "needs_background": "light"
          }
        }
      ]
    },
    {
      "cell_type": "code",
      "metadata": {
        "colab": {
          "base_uri": "https://localhost:8080/",
          "height": 17
        },
        "id": "d85K6zLFW7Bn",
        "outputId": "5335acc0-d160-4c8f-d13d-6777c2d5fd2a"
      },
      "source": [
        "%%HTML\r\n",
        "<style type=\"text/css\">\r\n",
        "table.dataframe td, table.dataframe th {\r\n",
        "    border: 1px  black solid !important;\r\n",
        "  color: black !important;\r\n",
        "}\r\n",
        "</style>"
      ],
      "execution_count": null,
      "outputs": [
        {
          "output_type": "display_data",
          "data": {
            "text/html": [
              "<style type=\"text/css\">\n",
              "table.dataframe td, table.dataframe th {\n",
              "    border: 1px  black solid !important;\n",
              "  color: black !important;\n",
              "}\n",
              "</style>"
            ],
            "text/plain": [
              "<IPython.core.display.HTML object>"
            ]
          },
          "metadata": {
            "tags": []
          }
        }
      ]
    },
    {
      "cell_type": "code",
      "metadata": {
        "colab": {
          "base_uri": "https://localhost:8080/",
          "height": 1000
        },
        "id": "HDORbXgWsiOY",
        "outputId": "964e3fdc-2908-44d3-ba17-bd937e9ac363"
      },
      "source": [
        "# Finding out significant categorical variables by performing ANOVA on all of them and removing variables who have p-values than 0.05\r\n",
        "\r\n",
        "import scipy\r\n",
        "\r\n",
        "categorical_data = df_new.select_dtypes(include='category')\r\n",
        "anova_df = pd.DataFrame(columns=['Variable','F-statistic','P-value'])\r\n",
        "insignificant_columns = []\r\n",
        "for each in categorical_data.columns:\r\n",
        "  result = df_new.groupby(each)['PHYSHLTH'].apply(list)\r\n",
        "  F, p = scipy.stats.f_oneway(*result)\r\n",
        "  anova_df.loc[len(anova_df.index)] = [each, F, p]  \r\n",
        "  if(p>=0.05):\r\n",
        "    insignificant_columns.append(each)\r\n",
        "\r\n",
        "df_new.drop(insignificant_columns,axis=1,inplace=True)\r\n",
        "anova_df\r\n",
        "\r\n",
        "#['IYEAR', 'DISPCODE', 'NUMMEN', '_RFDRHV4', '_RFSEAT2', '_AIDTST3']"
      ],
      "execution_count": null,
      "outputs": [
        {
          "output_type": "execute_result",
          "data": {
            "text/html": [
              "<div>\n",
              "<style scoped>\n",
              "    .dataframe tbody tr th:only-of-type {\n",
              "        vertical-align: middle;\n",
              "    }\n",
              "\n",
              "    .dataframe tbody tr th {\n",
              "        vertical-align: top;\n",
              "    }\n",
              "\n",
              "    .dataframe thead th {\n",
              "        text-align: right;\n",
              "    }\n",
              "</style>\n",
              "<table border=\"1\" class=\"dataframe\">\n",
              "  <thead>\n",
              "    <tr style=\"text-align: right;\">\n",
              "      <th></th>\n",
              "      <th>Variable</th>\n",
              "      <th>F-statistic</th>\n",
              "      <th>P-value</th>\n",
              "    </tr>\n",
              "  </thead>\n",
              "  <tbody>\n",
              "    <tr>\n",
              "      <th>0</th>\n",
              "      <td>_STATE</td>\n",
              "      <td>12.086743</td>\n",
              "      <td>5.722058e-06</td>\n",
              "    </tr>\n",
              "    <tr>\n",
              "      <th>1</th>\n",
              "      <td>IMONTH</td>\n",
              "      <td>2.803797</td>\n",
              "      <td>1.182481e-03</td>\n",
              "    </tr>\n",
              "    <tr>\n",
              "      <th>2</th>\n",
              "      <td>IYEAR</td>\n",
              "      <td>0.071276</td>\n",
              "      <td>7.894931e-01</td>\n",
              "    </tr>\n",
              "    <tr>\n",
              "      <th>3</th>\n",
              "      <td>DISPCODE</td>\n",
              "      <td>0.001093</td>\n",
              "      <td>9.736224e-01</td>\n",
              "    </tr>\n",
              "    <tr>\n",
              "      <th>4</th>\n",
              "      <td>PVTRESD1</td>\n",
              "      <td>28.845280</td>\n",
              "      <td>3.243796e-13</td>\n",
              "    </tr>\n",
              "    <tr>\n",
              "      <th>5</th>\n",
              "      <td>NUMMEN</td>\n",
              "      <td>1.006452</td>\n",
              "      <td>3.655530e-01</td>\n",
              "    </tr>\n",
              "    <tr>\n",
              "      <th>6</th>\n",
              "      <td>NUMWOMEN</td>\n",
              "      <td>5.070759</td>\n",
              "      <td>6.294889e-03</td>\n",
              "    </tr>\n",
              "    <tr>\n",
              "      <th>7</th>\n",
              "      <td>PERSDOC2</td>\n",
              "      <td>49.877070</td>\n",
              "      <td>2.838783e-22</td>\n",
              "    </tr>\n",
              "    <tr>\n",
              "      <th>8</th>\n",
              "      <td>CHECKUP1</td>\n",
              "      <td>22.542426</td>\n",
              "      <td>1.546737e-14</td>\n",
              "    </tr>\n",
              "    <tr>\n",
              "      <th>9</th>\n",
              "      <td>VETERAN3</td>\n",
              "      <td>27.328505</td>\n",
              "      <td>1.753607e-07</td>\n",
              "    </tr>\n",
              "    <tr>\n",
              "      <th>10</th>\n",
              "      <td>NUMHHOL2</td>\n",
              "      <td>4.132736</td>\n",
              "      <td>4.208943e-02</td>\n",
              "    </tr>\n",
              "    <tr>\n",
              "      <th>11</th>\n",
              "      <td>CPDEMO1</td>\n",
              "      <td>14.801487</td>\n",
              "      <td>1.202333e-04</td>\n",
              "    </tr>\n",
              "    <tr>\n",
              "      <th>12</th>\n",
              "      <td>INTERNET</td>\n",
              "      <td>313.328634</td>\n",
              "      <td>5.416813e-69</td>\n",
              "    </tr>\n",
              "    <tr>\n",
              "      <th>13</th>\n",
              "      <td>SEX</td>\n",
              "      <td>71.604880</td>\n",
              "      <td>1.372770e-31</td>\n",
              "    </tr>\n",
              "    <tr>\n",
              "      <th>14</th>\n",
              "      <td>INSULIN</td>\n",
              "      <td>160.215495</td>\n",
              "      <td>2.014792e-36</td>\n",
              "    </tr>\n",
              "    <tr>\n",
              "      <th>15</th>\n",
              "      <td>HLTHCVR1</td>\n",
              "      <td>74.077761</td>\n",
              "      <td>6.069050e-119</td>\n",
              "    </tr>\n",
              "    <tr>\n",
              "      <th>16</th>\n",
              "      <td>DELAYMED</td>\n",
              "      <td>27.460126</td>\n",
              "      <td>1.280252e-37</td>\n",
              "    </tr>\n",
              "    <tr>\n",
              "      <th>17</th>\n",
              "      <td>MEDSCOST</td>\n",
              "      <td>67.928577</td>\n",
              "      <td>5.137763e-30</td>\n",
              "    </tr>\n",
              "    <tr>\n",
              "      <th>18</th>\n",
              "      <td>_IMPNPH</td>\n",
              "      <td>9.804401</td>\n",
              "      <td>8.440071e-11</td>\n",
              "    </tr>\n",
              "    <tr>\n",
              "      <th>19</th>\n",
              "      <td>_CHISPNC</td>\n",
              "      <td>46.983177</td>\n",
              "      <td>4.978260e-21</td>\n",
              "    </tr>\n",
              "    <tr>\n",
              "      <th>20</th>\n",
              "      <td>_RFHLTH</td>\n",
              "      <td>1480.112126</td>\n",
              "      <td>0.000000e+00</td>\n",
              "    </tr>\n",
              "    <tr>\n",
              "      <th>21</th>\n",
              "      <td>_TOTINDA</td>\n",
              "      <td>407.123285</td>\n",
              "      <td>2.828751e-170</td>\n",
              "    </tr>\n",
              "    <tr>\n",
              "      <th>22</th>\n",
              "      <td>_ASTHMS1</td>\n",
              "      <td>19.473997</td>\n",
              "      <td>1.394348e-12</td>\n",
              "    </tr>\n",
              "    <tr>\n",
              "      <th>23</th>\n",
              "      <td>_DRDXAR1</td>\n",
              "      <td>282.089706</td>\n",
              "      <td>1.086024e-119</td>\n",
              "    </tr>\n",
              "    <tr>\n",
              "      <th>24</th>\n",
              "      <td>_EXTETH2</td>\n",
              "      <td>165.844657</td>\n",
              "      <td>1.658934e-71</td>\n",
              "    </tr>\n",
              "    <tr>\n",
              "      <th>25</th>\n",
              "      <td>_ALTETH2</td>\n",
              "      <td>75.503715</td>\n",
              "      <td>2.954762e-33</td>\n",
              "    </tr>\n",
              "    <tr>\n",
              "      <th>26</th>\n",
              "      <td>_DENVST2</td>\n",
              "      <td>78.178071</td>\n",
              "      <td>2.127173e-34</td>\n",
              "    </tr>\n",
              "    <tr>\n",
              "      <th>27</th>\n",
              "      <td>_RACE_G1</td>\n",
              "      <td>10.530310</td>\n",
              "      <td>4.234700e-10</td>\n",
              "    </tr>\n",
              "    <tr>\n",
              "      <th>28</th>\n",
              "      <td>_AGE_G</td>\n",
              "      <td>82.515254</td>\n",
              "      <td>4.467556e-85</td>\n",
              "    </tr>\n",
              "    <tr>\n",
              "      <th>29</th>\n",
              "      <td>_BMI5CAT</td>\n",
              "      <td>28.214050</td>\n",
              "      <td>2.477492e-23</td>\n",
              "    </tr>\n",
              "    <tr>\n",
              "      <th>30</th>\n",
              "      <td>_INCOMG</td>\n",
              "      <td>110.131892</td>\n",
              "      <td>2.038760e-113</td>\n",
              "    </tr>\n",
              "    <tr>\n",
              "      <th>31</th>\n",
              "      <td>_SMOKER3</td>\n",
              "      <td>28.592496</td>\n",
              "      <td>1.188100e-23</td>\n",
              "    </tr>\n",
              "    <tr>\n",
              "      <th>32</th>\n",
              "      <td>DRNKANY5</td>\n",
              "      <td>191.781606</td>\n",
              "      <td>2.341877e-82</td>\n",
              "    </tr>\n",
              "    <tr>\n",
              "      <th>33</th>\n",
              "      <td>_RFDRHV4</td>\n",
              "      <td>2.058761</td>\n",
              "      <td>1.276697e-01</td>\n",
              "    </tr>\n",
              "    <tr>\n",
              "      <th>34</th>\n",
              "      <td>_FLSHOT6</td>\n",
              "      <td>53.348129</td>\n",
              "      <td>9.164166e-24</td>\n",
              "    </tr>\n",
              "    <tr>\n",
              "      <th>35</th>\n",
              "      <td>_PNEUMO2</td>\n",
              "      <td>53.468871</td>\n",
              "      <td>8.132916e-24</td>\n",
              "    </tr>\n",
              "    <tr>\n",
              "      <th>36</th>\n",
              "      <td>_RFSEAT2</td>\n",
              "      <td>2.845191</td>\n",
              "      <td>5.817335e-02</td>\n",
              "    </tr>\n",
              "    <tr>\n",
              "      <th>37</th>\n",
              "      <td>_RFMAM2Y</td>\n",
              "      <td>28.731336</td>\n",
              "      <td>3.632760e-13</td>\n",
              "    </tr>\n",
              "    <tr>\n",
              "      <th>38</th>\n",
              "      <td>_RFPAP32</td>\n",
              "      <td>43.379705</td>\n",
              "      <td>1.766448e-19</td>\n",
              "    </tr>\n",
              "    <tr>\n",
              "      <th>39</th>\n",
              "      <td>_RFPSA21</td>\n",
              "      <td>7.326306</td>\n",
              "      <td>6.617750e-04</td>\n",
              "    </tr>\n",
              "    <tr>\n",
              "      <th>40</th>\n",
              "      <td>_AIDTST3</td>\n",
              "      <td>0.427930</td>\n",
              "      <td>6.518701e-01</td>\n",
              "    </tr>\n",
              "    <tr>\n",
              "      <th>41</th>\n",
              "      <td>_IMPEDUC</td>\n",
              "      <td>74.117004</td>\n",
              "      <td>2.166656e-76</td>\n",
              "    </tr>\n",
              "    <tr>\n",
              "      <th>42</th>\n",
              "      <td>_IMPMRTL</td>\n",
              "      <td>40.919780</td>\n",
              "      <td>8.584144e-42</td>\n",
              "    </tr>\n",
              "    <tr>\n",
              "      <th>43</th>\n",
              "      <td>_IMPHOME</td>\n",
              "      <td>57.878205</td>\n",
              "      <td>1.041791e-25</td>\n",
              "    </tr>\n",
              "    <tr>\n",
              "      <th>44</th>\n",
              "      <td>TOT_DFFCLTY_TSKS</td>\n",
              "      <td>815.844782</td>\n",
              "      <td>0.000000e+00</td>\n",
              "    </tr>\n",
              "    <tr>\n",
              "      <th>45</th>\n",
              "      <td>TOT_CHRNC</td>\n",
              "      <td>326.485487</td>\n",
              "      <td>1.220631e-201</td>\n",
              "    </tr>\n",
              "  </tbody>\n",
              "</table>\n",
              "</div>"
            ],
            "text/plain": [
              "            Variable  F-statistic        P-value\n",
              "0             _STATE    12.086743   5.722058e-06\n",
              "1             IMONTH     2.803797   1.182481e-03\n",
              "2              IYEAR     0.071276   7.894931e-01\n",
              "3           DISPCODE     0.001093   9.736224e-01\n",
              "4           PVTRESD1    28.845280   3.243796e-13\n",
              "5             NUMMEN     1.006452   3.655530e-01\n",
              "6           NUMWOMEN     5.070759   6.294889e-03\n",
              "7           PERSDOC2    49.877070   2.838783e-22\n",
              "8           CHECKUP1    22.542426   1.546737e-14\n",
              "9           VETERAN3    27.328505   1.753607e-07\n",
              "10          NUMHHOL2     4.132736   4.208943e-02\n",
              "11           CPDEMO1    14.801487   1.202333e-04\n",
              "12          INTERNET   313.328634   5.416813e-69\n",
              "13               SEX    71.604880   1.372770e-31\n",
              "14           INSULIN   160.215495   2.014792e-36\n",
              "15          HLTHCVR1    74.077761  6.069050e-119\n",
              "16          DELAYMED    27.460126   1.280252e-37\n",
              "17          MEDSCOST    67.928577   5.137763e-30\n",
              "18           _IMPNPH     9.804401   8.440071e-11\n",
              "19          _CHISPNC    46.983177   4.978260e-21\n",
              "20           _RFHLTH  1480.112126   0.000000e+00\n",
              "21          _TOTINDA   407.123285  2.828751e-170\n",
              "22          _ASTHMS1    19.473997   1.394348e-12\n",
              "23          _DRDXAR1   282.089706  1.086024e-119\n",
              "24          _EXTETH2   165.844657   1.658934e-71\n",
              "25          _ALTETH2    75.503715   2.954762e-33\n",
              "26          _DENVST2    78.178071   2.127173e-34\n",
              "27          _RACE_G1    10.530310   4.234700e-10\n",
              "28            _AGE_G    82.515254   4.467556e-85\n",
              "29          _BMI5CAT    28.214050   2.477492e-23\n",
              "30           _INCOMG   110.131892  2.038760e-113\n",
              "31          _SMOKER3    28.592496   1.188100e-23\n",
              "32          DRNKANY5   191.781606   2.341877e-82\n",
              "33          _RFDRHV4     2.058761   1.276697e-01\n",
              "34          _FLSHOT6    53.348129   9.164166e-24\n",
              "35          _PNEUMO2    53.468871   8.132916e-24\n",
              "36          _RFSEAT2     2.845191   5.817335e-02\n",
              "37          _RFMAM2Y    28.731336   3.632760e-13\n",
              "38          _RFPAP32    43.379705   1.766448e-19\n",
              "39          _RFPSA21     7.326306   6.617750e-04\n",
              "40          _AIDTST3     0.427930   6.518701e-01\n",
              "41          _IMPEDUC    74.117004   2.166656e-76\n",
              "42          _IMPMRTL    40.919780   8.584144e-42\n",
              "43          _IMPHOME    57.878205   1.041791e-25\n",
              "44  TOT_DFFCLTY_TSKS   815.844782   0.000000e+00\n",
              "45         TOT_CHRNC   326.485487  1.220631e-201"
            ]
          },
          "metadata": {
            "tags": []
          },
          "execution_count": 54
        }
      ]
    },
    {
      "cell_type": "markdown",
      "metadata": {
        "id": "hgrXtxPzJY9M"
      },
      "source": [
        "From the Linear Regression results in R, the top predictor variables are:\r\n",
        "\r\n",
        "**_STATE:** New Jersey has 0.54 times and New York has 0.11 times chances of having higher number of bad physical days than Connecticut.\r\n",
        "\r\n",
        "**MENTHLTH:** With increase in 1 bad mental health day, there is an increase of 0.16 bad physical health day.\r\n",
        "\r\n",
        "**PERSDOC2:** People having more than 1 personal doctors are 0.78 times more likely to have bad physical days compared to people having no personal doctors. Similarly, people seeing only 1 personal doctor are 0.06 times less likely to have bad physical health days.\r\n",
        "\r\n",
        "**CHECKUP1:** People who have had their last routine check up within last 2 to 5 years are 0.27 times less likely to have bad physical health days compared to people who have their last routine check up within past 1 year. SImilarly, People who have had their last routine check up 5 or more years ago are 0.14 times and people who don't remember time of their last checkup are 2.26 more likely to have bad physical health days.\r\n",
        "\r\n",
        "**NUMHHOL2:** People having more than 1 telephone numbers in their household are 1.8 times less likely to have bad physical days compared to people not having more than 1 telephone numbers.\r\n",
        "\r\n",
        "**INSULIN:** People currently taking insulin are 0.88 times more likely to have bad physical days compared to people not taking them.\r\n",
        "\r\n",
        "**_RFHLTH:** People having bad or poor general health are 6.83 times more likely to have bad physical health days compared to people having good or better general health.\r\n",
        "\r\n",
        "**_TOTINDA:** Adults who reported to have done physical activity in the past 30 days are 0.97 times less likely to have bad physical health days compared to those who don't.\r\n",
        "\r\n",
        "**_ASTHMS1:** Strangely, people who have reported to be have had Asthma in the past or never had it are 0.44 and 0.59 times more likely to have bad physical health days compared to those who currently have Asthma.\r\n",
        "\r\n",
        "**_ALTETH2:** Adults aged 65+ who have had their natural teeth extracted are 0.2 times less likely to have bad physical health days compared to those who haven't.\r\n",
        "\r\n",
        "**_RACE_G1:** Hispanics, Multi-racial Non-Hispanics, Other race Non-Hispanics and White Non-Hispanics are 0.62,1.83,0.32 and 0.99 times respectively more likely to have more bad physical health days compared to Black Non-Hispanics.\r\n",
        "\r\n",
        "**_AGE_G:** People in the age groups 25-34, 35-44, 45-54, 55-64, and 65 or more are 0.51,0.86,1.75,2.39 and 2.42 times respectively likely to have more bad physical health days compared to age group 18-24.\r\n",
        "\r\n",
        "**DRNKANY5:** Adults who reported to have had atleast 1 alcoholic drink in the past 30 days are 0.93 times less likely to have bad physical health days compared to people who haven't.\r\n",
        "\r\n",
        "**_FLSHOT6:** Adults aged 65+ who has had a flu shot in the past year are 0.18 times less likely to have bad physical days compared to thoe who didn't.\r\n",
        "\r\n",
        "**TOT_DFFCLTY_TSKS:** People who have difficulty in performing 3-4 tasks, or 5-6 tasks are 3.08 and 3.63 times respectively more likely to have bad physical health days compared to those who have difficulty in performing only 1 or 2 tasks.\r\n",
        "\r\n",
        "**TOT_CHRNC:** People who have a total of 4-6 chronic illnesses are 0.08 times less likely, whereas people having 7 or more chronic illnesses are 0.56 times more likely to have bad physical health days compared to people who have 1 to 3 chronic illnesses.\r\n",
        "\r\n"
      ]
    },
    {
      "cell_type": "markdown",
      "metadata": {
        "id": "cOdIcOlxXgDJ"
      },
      "source": [
        "**Q4. If you had additional time, what other types of data mining techniques and/or analytical modelling would you explore with this dataset?** \r\n",
        "\r\n",
        "**Ans 4:** I would have performed deeper exploratory analysis on the variables by ploting multiple graphs and charts. \r\n",
        "Also, I would have also tried categorizing the PHYSHLTH variable and performed analysis with categorical dependent variable to find which one is better."
      ]
    }
  ]
}